{
 "cells": [
  {
   "cell_type": "markdown",
   "metadata": {},
   "source": [
    "# Sorting people into leagues - based on random numbers"
   ]
  },
  {
   "cell_type": "markdown",
   "metadata": {},
   "source": [
    "## Krista Longnecker, updated December 2022"
   ]
  },
  {
   "cell_type": "code",
   "execution_count": 853,
   "metadata": {},
   "outputs": [],
   "source": [
    "# Before running this:\n",
    "#     (1) decide on max # of people for each league\n",
    "#     (2) enter the name of the file that has the registration inforamtion\n",
    "#     (3) update the list of leagues\n",
    "#     (4) update the list of league managers"
   ]
  },
  {
   "cell_type": "code",
   "execution_count": 854,
   "metadata": {},
   "outputs": [],
   "source": [
    "#reset so we start with a clean workspace; the -f does this without user confirmations\n",
    "%reset -f"
   ]
  },
  {
   "cell_type": "code",
   "execution_count": 855,
   "metadata": {},
   "outputs": [],
   "source": [
    "setSeed = False\n",
    "\n",
    "#Do you want to preset the random seed? If you enter a number, you will have the same random order each time you run\n",
    "#the code (in other words - it will not be shuffled each time)\n",
    "if setSeed == True:\n",
    "    SEED = 42\n",
    "elif setSeed == False:\n",
    "    SEED = None"
   ]
  },
  {
   "cell_type": "code",
   "execution_count": 856,
   "metadata": {},
   "outputs": [],
   "source": [
    "import pandas as pd\n",
    "import numpy as np\n",
    "import math\n",
    "import csv\n",
    "import os\n",
    "from datetime import datetime\n",
    "\n",
    "#used this to step into the function and debug it, also need line with Tracer()() (deprecated, but still works)\n",
    "from IPython.core.debugger import Tracer \n",
    "\n",
    "%matplotlib inline"
   ]
  },
  {
   "cell_type": "markdown",
   "metadata": {},
   "source": [
    "Define some options up top to reduce the need to go browing through code for updates"
   ]
  },
  {
   "cell_type": "code",
   "execution_count": 857,
   "metadata": {},
   "outputs": [],
   "source": [
    "#What is the name of the data file ?\n",
    "fName = 'registrants_list_on_2022_12_20.KLworking.xlsx' \n",
    "\n",
    "#openLeagues are those where people have to provide priorities\n",
    "openLeagues = ['Sunday 5:15pm Open', 'Monday 4pm Open', 'Monday Evening Open','Tuesday 10am Open',\n",
    "               'Wednesday 4pm Open','Thursday 4pm Open'] #updated to match the priority list\n",
    "\n",
    "#otherLeagues are those where everyone will get in (at least in theory)\n",
    "otherLeagues = ['Mens League', #will be renamed to this option later...no apostrophe\n",
    "               'Thursday Ladies League - 6:15pm']\n",
    "\n",
    "#one note - this was never set up to run with things where people enter a team (competitive or doubles)\n",
    "#people are not consistent enough in entering names, so there is really no point"
   ]
  },
  {
   "cell_type": "code",
   "execution_count": 858,
   "metadata": {},
   "outputs": [],
   "source": [
    "#set the limit for each league (can set to big numbers to see how oversubscribed each league is)\n",
    "fiveTeams = 20\n",
    "sixTeams = 24\n",
    "sevenTeams = 28 \n",
    "eightTeams = 32\n",
    "elevenTeams = 44\n",
    "fourteenTeams = 56\n",
    "\n",
    "d = {'Sunday 5:15pm Open': eightTeams,\n",
    "     'Monday 4pm Open': sevenTeams,\n",
    "     'Monday Evening Open': eightTeams,\n",
    "     'Tuesday 10am Open': sevenTeams,\n",
    "     'Wednesday 4pm Open': sevenTeams,\n",
    "     'Thursday 4pm Open': sevenTeams,}\n",
    "\n",
    "nLimit = pd.DataFrame({'nLimit' : d})\n",
    "del d"
   ]
  },
  {
   "cell_type": "code",
   "execution_count": 859,
   "metadata": {},
   "outputs": [],
   "source": [
    "##Who are the league managers for the open leagues? Set here to make sure they get in their league\n",
    "#list these in the same order as the openLeagues variable\n",
    "names = [['Nathan','Adams'],['Jeanie','Yaroch'],['Gabriele', 'Bruce'],\n",
    "         ['Mary' ,'Colacchio'], \n",
    "        ['Barbara', 'Sheerin'],['Bill', 'Gallagher']] "
   ]
  },
  {
   "cell_type": "markdown",
   "metadata": {},
   "source": [
    "Define some functions up top"
   ]
  },
  {
   "cell_type": "code",
   "execution_count": 860,
   "metadata": {},
   "outputs": [],
   "source": [
    "#add the league manager to a league. They will be first on the list.\n",
    "def addManager(leagueDictionary,r,manager): #here r is the index in...\n",
    "    useRow = r.index[0]\n",
    "    #oneName = regSorted.loc[useRow,['lastname', 'firstname']] \n",
    "    oneName = regSorted.loc[useRow,['Last Name', 'First Name', 'Email']] \n",
    "    oneName = oneName.to_frame().transpose() #need this format to make nice output\n",
    "    #leagueDictionary[manager] = oneName #used to work, but now has , at end of tuple\n",
    "    #get rid of the @#$#% comma, updated 9/22/2019\n",
    "    forIdx = ''.join(manager)\n",
    "    leagueDictionary[forIdx] = oneName   \n",
    "    regSorted.loc[useRow,forIdx]=np.nan\n",
    "    regTracking.loc[useRow,forIdx]='yes'\n",
    "    return leagueDictionary"
   ]
  },
  {
   "cell_type": "code",
   "execution_count": 861,
   "metadata": {},
   "outputs": [],
   "source": [
    "#this adds a person to an 'open' league - or one where they have had to decide on priorities\n",
    "def addOpenLeague(idx,regSorted,regTracking,leagueDict_open,iteration,trackIssues):\n",
    "    #person is interested in open leagues, oneLeague will be index in their next choice\n",
    "    #prior to Fall 2019, this worked, seems to be a new format in the Excel file\n",
    "    #oneLeague = regSorted.loc[idx,openLeagues].dropna().idxmin()\n",
    "    #probably a better way to do this, but gather up all the bits in one line (yikes!)\n",
    "    oneLeague = pd.to_numeric(regSorted.loc[idx,openLeagues].dropna()).idxmin()\n",
    "    \n",
    "    oneName = regSorted.loc[idx,['Last Name', 'First Name', 'Email']]\n",
    "    oneName = oneName.to_frame().transpose() #need this format to make nice output\n",
    "\n",
    "    if len(leagueDict_open[oneLeague]) < (nLimit.loc[oneLeague,'nLimit']): #room in league\n",
    "        leagueDict_open = addOne(leagueDict_open,oneLeague,oneName)\n",
    "        #now that I have added the person to a league, change their priority to NaN\n",
    "        regSorted.loc[idx,oneLeague] = np.nan\n",
    "        regTracking.loc[idx,oneLeague] = 'yes'\n",
    "\n",
    "    elif len(leagueDict_open[oneLeague]) == (nLimit.loc[oneLeague,'nLimit']):\n",
    "        #league is full...does this person have another league listed?\n",
    "        #first, set current to NaN\n",
    "        regSorted.loc[idx,oneLeague] = np.nan\n",
    "        regTracking.loc[idx,oneLeague] = 'no' #did not get in\n",
    "        nextPriority = regSorted.loc[idx,openLeagues].dropna().min()\n",
    "        if math.isnan(nextPriority)!=1: #have a number\n",
    "            #go to the next league on their list\n",
    "            nextLeague = pd.to_numeric(regSorted.loc[idx,openLeagues].dropna()).idxmin()\n",
    "            \n",
    "            #only add person is league has space\n",
    "            if len(leagueDict_open[nextLeague]) < (nLimit.loc[nextLeague,'nLimit']):\n",
    "                leagueDict_open = addOne(leagueDict_open,nextLeague,oneName)\n",
    "                regSorted.loc[idx,nextLeague] = np.nan\n",
    "                regTracking.loc[idx,nextLeague] = 'yes'\n",
    "            elif (len(leagueDict_open[nextLeague]) == nLimit.loc[nextLeague,'nLimit']) & (iteration==1):\n",
    "                regTracking.loc[idx,nextLeague]='no'\n",
    "                trackIssues = addOne(trackIssues,'notInFirst',oneName)\n",
    "            elif (len(leagueDict_open[nextLeague]) == nLimit.loc[nextLeague,'nLimit']) & (iteration==2):\n",
    "                regTracking.loc[idx,nextLeague]='no'\n",
    "                trackIssues = addOne(trackIssues,'notInSecond',oneName)\n",
    "            elif (len(leagueDict_open[nextLeague]) == nLimit.loc[nextLeague,'nLimit']) & (iteration==3):\n",
    "                regTracking.loc[idx,nextLeague]='no'\n",
    "                trackIssues = addOne(trackIssues,'notInThird',oneName)\n",
    "            elif (len(leagueDict_open[nextLeague]) == nLimit.loc[nextLeague,'nLimit']) & (iteration==4):\n",
    "                regTracking.loc[idx,nextLeague]='no'\n",
    "                trackIssues = addOne(trackIssues,'notInFourth',oneName)\n",
    "            elif (len(leagueDict_open[nextLeague]) == nLimit.loc[nextLeague,'nLimit']) & (iteration==5):\n",
    "                regTracking.loc[idx,nextLeague]='no'\n",
    "                trackIssues = addOne(trackIssues,'notInFifth',oneName)\n",
    "        elif math.isnan(nextPriority)==1:\n",
    "            trackIssues=addOne(trackIssues,'noAdditionalChoice',oneName)\n",
    "                           \n",
    "    return regSorted, regTracking, leagueDict_open, trackIssues"
   ]
  },
  {
   "cell_type": "code",
   "execution_count": 862,
   "metadata": {},
   "outputs": [],
   "source": [
    "#this adds a person to a league without worrying about priorities (e.g., Mens or Ladies league)\n",
    "def addOne(leagueDict,oneLeague,oneName):\n",
    "    if len(leagueDict[oneLeague])==0: #nothing there yet\n",
    "        leagueDict[oneLeague] = oneName\n",
    "    else:     #need to append\n",
    "        leagueDict[oneLeague] = leagueDict[oneLeague].append(oneName)\n",
    "    return leagueDict"
   ]
  },
  {
   "cell_type": "markdown",
   "metadata": {},
   "source": [
    "Read in the data"
   ]
  },
  {
   "cell_type": "code",
   "execution_count": 863,
   "metadata": {},
   "outputs": [],
   "source": [
    "#fName is defined above --> that is the data exported by the curling club's website\n",
    "importInfo = pd.read_excel(io=fName)\n",
    "\n",
    "#Men's league has an apostrophe that causes issues, rename it here\n",
    "importInfo.rename(\n",
    " columns={\"Tuesday Men's League - Evening\": 'Mens League'},inplace=True)"
   ]
  },
  {
   "cell_type": "code",
   "execution_count": 864,
   "metadata": {},
   "outputs": [
    {
     "data": {
      "text/plain": [
       "['Mens League', 'Thursday Ladies League - 6:15pm']"
      ]
     },
     "execution_count": 864,
     "metadata": {},
     "output_type": "execute_result"
    }
   ],
   "source": [
    "otherLeagues"
   ]
  },
  {
   "cell_type": "code",
   "execution_count": 865,
   "metadata": {},
   "outputs": [],
   "source": [
    "#shuffle the information from the website site to match the format in the rest of this file\n",
    "#openLeagues = ['Sunday 5:15pm Open', 'Monday 4pm Open', 'Monday Evening Open','Tuesday 10am Open',\n",
    "#               'Wednesday 4pm Open','Thursday 4pm Open'] #updated to match the priority list\n",
    "#otherLeagues = ['Mens League', 'Thursday Ladies League - 6:15pm'] #12/2022 - there are more, ignore for now\n",
    "\n",
    "priorities = ['First Championship League Choice','Second Championship League Choice',\n",
    "              'Third Championship League Choice','Fourth Championship League Choice',\n",
    "              'Fifth Championship League Choice','Sixth Championship League Choice']\n",
    "\n",
    "regInfo = importInfo.loc[:,(['First Name','Last Name','Email',\n",
    "                             'How many Championship Leagues would you like to play in?'] + otherLeagues)]\n",
    "\n",
    "#hack to shift to old name bc old name has no spaces!\n",
    "regInfo.rename(columns={'How many Championship Leagues would you like to play in?': 'League_Number_Open'}, inplace=True) \n",
    "\n",
    "for item in openLeagues:\n",
    "    #add columns with open league names and fill with NaN\n",
    "    regInfo[item] = np.nan"
   ]
  },
  {
   "cell_type": "code",
   "execution_count": 866,
   "metadata": {},
   "outputs": [],
   "source": [
    "nPeople = len(regInfo.index)\n",
    "for idx in range(0,nPeople):\n",
    "    for idxP in enumerate(priorities):\n",
    "        #remember: enumerate will allow idxP[0] is the number, while idxP[1] is the value\n",
    "        getOne = importInfo.loc[idx,idxP[1]]\n",
    "        if isinstance(getOne,str): #updated 9/22/2019\n",
    "            regInfo.loc[idx,getOne] = idxP[0] + 1  #want 1,2,3 and not python zero index"
   ]
  },
  {
   "cell_type": "code",
   "execution_count": 867,
   "metadata": {},
   "outputs": [
    {
     "data": {
      "text/html": [
       "<div>\n",
       "<style scoped>\n",
       "    .dataframe tbody tr th:only-of-type {\n",
       "        vertical-align: middle;\n",
       "    }\n",
       "\n",
       "    .dataframe tbody tr th {\n",
       "        vertical-align: top;\n",
       "    }\n",
       "\n",
       "    .dataframe thead th {\n",
       "        text-align: right;\n",
       "    }\n",
       "</style>\n",
       "<table border=\"1\" class=\"dataframe\">\n",
       "  <thead>\n",
       "    <tr style=\"text-align: right;\">\n",
       "      <th></th>\n",
       "      <th>First Name</th>\n",
       "      <th>Last Name</th>\n",
       "      <th>Email</th>\n",
       "      <th>League_Number_Open</th>\n",
       "      <th>Mens League</th>\n",
       "      <th>Thursday Ladies League - 6:15pm</th>\n",
       "      <th>Sunday 5:15pm Open</th>\n",
       "      <th>Monday 4pm Open</th>\n",
       "      <th>Monday Evening Open</th>\n",
       "      <th>Tuesday 10am Open</th>\n",
       "      <th>Wednesday 4pm Open</th>\n",
       "      <th>Thursday 4pm Open</th>\n",
       "    </tr>\n",
       "  </thead>\n",
       "  <tbody>\n",
       "    <tr>\n",
       "      <th>5</th>\n",
       "      <td>Nathan</td>\n",
       "      <td>Adams</td>\n",
       "      <td>adams.nathan.t@gmail.com</td>\n",
       "      <td>1</td>\n",
       "      <td>No</td>\n",
       "      <td>No</td>\n",
       "      <td>1.0</td>\n",
       "      <td>NaN</td>\n",
       "      <td>NaN</td>\n",
       "      <td>NaN</td>\n",
       "      <td>NaN</td>\n",
       "      <td>NaN</td>\n",
       "    </tr>\n",
       "    <tr>\n",
       "      <th>192</th>\n",
       "      <td>Tom</td>\n",
       "      <td>Adams</td>\n",
       "      <td>tradams121@gmail.com</td>\n",
       "      <td>2</td>\n",
       "      <td>No</td>\n",
       "      <td>No</td>\n",
       "      <td>2.0</td>\n",
       "      <td>NaN</td>\n",
       "      <td>3.0</td>\n",
       "      <td>NaN</td>\n",
       "      <td>NaN</td>\n",
       "      <td>NaN</td>\n",
       "    </tr>\n",
       "  </tbody>\n",
       "</table>\n",
       "</div>"
      ],
      "text/plain": [
       "    First Name Last Name                     Email  League_Number_Open  \\\n",
       "5       Nathan     Adams  adams.nathan.t@gmail.com                   1   \n",
       "192        Tom     Adams      tradams121@gmail.com                   2   \n",
       "\n",
       "    Mens League Thursday Ladies League - 6:15pm  Sunday 5:15pm Open  \\\n",
       "5            No                              No                 1.0   \n",
       "192          No                              No                 2.0   \n",
       "\n",
       "     Monday 4pm Open  Monday Evening Open  Tuesday 10am Open  \\\n",
       "5                NaN                  NaN                NaN   \n",
       "192              NaN                  3.0                NaN   \n",
       "\n",
       "     Wednesday 4pm Open  Thursday 4pm Open  \n",
       "5                   NaN                NaN  \n",
       "192                 NaN                NaN  "
      ]
     },
     "execution_count": 867,
     "metadata": {},
     "output_type": "execute_result"
    }
   ],
   "source": [
    "#use this to find one person's registration\n",
    "regInfo.loc[importInfo['Last Name']==\"Adams\"]"
   ]
  },
  {
   "cell_type": "code",
   "execution_count": 868,
   "metadata": {},
   "outputs": [],
   "source": [
    "#first, how many random numbers so I need?\n",
    "nPeople = len(regInfo.index)\n",
    "np.random.seed(SEED)\n",
    "regInfo['randomNumCol'] = np.random.choice(range(nPeople), nPeople,replace = False)\n",
    "\n",
    "##put in place to rank people higher if they only want to curl in one championship league\n",
    "if False:\n",
    "    for idx in (range(0,nPeople)):\n",
    "        if regInfo.loc[idx,'League_Number_Open'] != '1':\n",
    "            regInfo.loc[idx,'randomNumCol'] = regInfo.loc[idx,'randomNumCol'] + 1000"
   ]
  },
  {
   "cell_type": "code",
   "execution_count": 869,
   "metadata": {},
   "outputs": [],
   "source": [
    "##so now, moving back to the list of people, sort the list by the random number\n",
    "regSorted = regInfo.sort_values(by = 'randomNumCol', ascending=True)\n",
    "regSorted.reset_index(inplace = True)\n",
    "#copy so I can have an output tracking what was done, make after I put in league managers\n",
    "regTracking = regSorted.copy(deep=True)"
   ]
  },
  {
   "cell_type": "code",
   "execution_count": 870,
   "metadata": {},
   "outputs": [],
   "source": [
    "issueNames = ['notInFirst','notInSecond','notInThird','notInFourth','notInFifth','noAdditionalChoice']\n",
    "#setup the dictionary to hold the issues\n",
    "trackIssues = {}\n",
    "for name in issueNames:\n",
    "    trackIssues[name] = pd.DataFrame()"
   ]
  },
  {
   "cell_type": "code",
   "execution_count": 871,
   "metadata": {},
   "outputs": [],
   "source": [
    "#setup the dictionary to hold the people information (start with openLeagues only)\n",
    "forDictionary = openLeagues\n",
    "#forDictionary.extend(otherLeagues)\n",
    "leagueDict_open = {}\n",
    "for name in forDictionary:\n",
    "    leagueDict_open[name] = pd.DataFrame()"
   ]
  },
  {
   "cell_type": "code",
   "execution_count": 872,
   "metadata": {},
   "outputs": [],
   "source": [
    "# use the league manager information defined at the top\n",
    "#start by putting the league managers in their league\n",
    "managers = pd.DataFrame(names,columns = ['firstname','lastname'],index = [openLeagues])\n",
    "\n",
    "if True:\n",
    "    #put the league managers into their league and set their the choice for that league to NaN\n",
    "    for oL,item in managers.iterrows():\n",
    "        #print(oL,item)\n",
    "        r = regSorted.loc[(regSorted['Last Name']==item.lastname) & (regSorted['First Name']==item.firstname)]\n",
    "        #print(r)\n",
    "        leagueDict_open = addManager(leagueDict_open,r,oL)  "
   ]
  },
  {
   "cell_type": "code",
   "execution_count": 873,
   "metadata": {},
   "outputs": [
    {
     "data": {
      "text/html": [
       "<div>\n",
       "<style scoped>\n",
       "    .dataframe tbody tr th:only-of-type {\n",
       "        vertical-align: middle;\n",
       "    }\n",
       "\n",
       "    .dataframe tbody tr th {\n",
       "        vertical-align: top;\n",
       "    }\n",
       "\n",
       "    .dataframe thead th {\n",
       "        text-align: right;\n",
       "    }\n",
       "</style>\n",
       "<table border=\"1\" class=\"dataframe\">\n",
       "  <thead>\n",
       "    <tr style=\"text-align: right;\">\n",
       "      <th></th>\n",
       "      <th>firstname</th>\n",
       "      <th>lastname</th>\n",
       "    </tr>\n",
       "  </thead>\n",
       "  <tbody>\n",
       "    <tr>\n",
       "      <th>Sunday 5:15pm Open</th>\n",
       "      <td>Nathan</td>\n",
       "      <td>Adams</td>\n",
       "    </tr>\n",
       "    <tr>\n",
       "      <th>Monday 4pm Open</th>\n",
       "      <td>Jeanie</td>\n",
       "      <td>Yaroch</td>\n",
       "    </tr>\n",
       "    <tr>\n",
       "      <th>Monday Evening Open</th>\n",
       "      <td>Gabriele</td>\n",
       "      <td>Bruce</td>\n",
       "    </tr>\n",
       "    <tr>\n",
       "      <th>Tuesday 10am Open</th>\n",
       "      <td>Mary</td>\n",
       "      <td>Colacchio</td>\n",
       "    </tr>\n",
       "    <tr>\n",
       "      <th>Wednesday 4pm Open</th>\n",
       "      <td>Barbara</td>\n",
       "      <td>Sheerin</td>\n",
       "    </tr>\n",
       "    <tr>\n",
       "      <th>Thursday 4pm Open</th>\n",
       "      <td>Bill</td>\n",
       "      <td>Gallagher</td>\n",
       "    </tr>\n",
       "  </tbody>\n",
       "</table>\n",
       "</div>"
      ],
      "text/plain": [
       "                    firstname   lastname\n",
       "Sunday 5:15pm Open     Nathan      Adams\n",
       "Monday 4pm Open        Jeanie     Yaroch\n",
       "Monday Evening Open  Gabriele      Bruce\n",
       "Tuesday 10am Open        Mary  Colacchio\n",
       "Wednesday 4pm Open    Barbara    Sheerin\n",
       "Thursday 4pm Open        Bill  Gallagher"
      ]
     },
     "execution_count": 873,
     "metadata": {},
     "output_type": "execute_result"
    }
   ],
   "source": [
    "managers"
   ]
  },
  {
   "cell_type": "code",
   "execution_count": 874,
   "metadata": {},
   "outputs": [
    {
     "data": {
      "text/plain": [
       "198"
      ]
     },
     "execution_count": 874,
     "metadata": {},
     "output_type": "execute_result"
    }
   ],
   "source": [
    "#how many people are registered for this session?\n",
    "nPeople"
   ]
  },
  {
   "cell_type": "code",
   "execution_count": 875,
   "metadata": {},
   "outputs": [],
   "source": [
    "if np.isnan(regTracking.loc[3,'League_Number_Open']) == True:\n",
    "    print('test')"
   ]
  },
  {
   "cell_type": "code",
   "execution_count": 876,
   "metadata": {},
   "outputs": [
    {
     "data": {
      "text/plain": [
       "False"
      ]
     },
     "execution_count": 876,
     "metadata": {},
     "output_type": "execute_result"
    }
   ],
   "source": [
    "regTracking.loc[3,'League_Number_Open'] == np.isnan"
   ]
  },
  {
   "cell_type": "markdown",
   "metadata": {},
   "source": [
    "The actual sorting process starts in the following cell"
   ]
  },
  {
   "cell_type": "code",
   "execution_count": 877,
   "metadata": {},
   "outputs": [],
   "source": [
    "iteration = 1\n",
    "for idx in (range(0,(nPeople-1))):\n",
    "    #if regTracking.loc[idx,'League_Number_Open'] != 'nan':\n",
    "    if np.isnan(regTracking.loc[idx,'League_Number_Open']) == False:\n",
    "        #Tracer()()\n",
    "        #only do something if a person is still looking for more leagues...\n",
    "        rt = regTracking.loc[idx,openLeagues]\n",
    "        cHave = len(rt[rt=='yes'])\n",
    "        del rt\n",
    "        #NOTE: League_Number_Open will return a string...change to int\n",
    "    \n",
    "if cHave < int(regTracking.loc[idx,'League_Number_Open']): #person wants more \n",
    "            onePriority = regSorted.loc[idx,openLeagues].dropna().min() #any more things ranked?   \n",
    "            if math.isnan(float(onePriority))==False:\n",
    "                regSorted,regTracking,leagueDict_open,trackIssues = addOpenLeague(idx,regSorted,regTracking,leagueDict_open,iteration,trackIssues)\n"
   ]
  },
  {
   "cell_type": "code",
   "execution_count": 878,
   "metadata": {},
   "outputs": [],
   "source": [
    "#now go backwards through the list to fill the other spots\n",
    "iteration = 2\n",
    "for idx in (range((nPeople - 1),0,-1)):\n",
    "    #ignore person who does not want open leagues:\n",
    "    if np.isnan(regTracking.loc[idx,'League_Number_Open']) == False:\n",
    "        #only do something if a person is still looking for more leagues...\n",
    "        rt = regTracking.loc[idx,openLeagues]\n",
    "        cHave = len(rt[rt=='yes'])\n",
    "        del rt\n",
    "        #NOTE: League_Number_Open will return a string...change to int\n",
    "        if cHave < int(regTracking.loc[idx,'League_Number_Open']): #person wants more \n",
    "            onePriority = regSorted.loc[idx,openLeagues].dropna().min() #any more things ranked?   \n",
    "            if math.isnan(float(onePriority))==False:\n",
    "                regSorted,regTracking,leagueDict_open,trackIssues = addOpenLeague(idx,regSorted,regTracking,leagueDict_open,iteration,trackIssues)"
   ]
  },
  {
   "cell_type": "code",
   "execution_count": 879,
   "metadata": {},
   "outputs": [],
   "source": [
    "#go forwards again\n",
    "iteration = 3\n",
    "for idx in (range(0,(nPeople-1))):\n",
    "    #ignore person who does not want open leagues:\n",
    "    if np.isnan(regTracking.loc[idx,'League_Number_Open']) == False:\n",
    "        #only do something if a person is still looking for more leagues...\n",
    "        rt = regTracking.loc[idx,openLeagues]\n",
    "        cHave = len(rt[rt=='yes'])\n",
    "        del rt\n",
    "        #NOTE: League_Number_Open will return a string...change to int\n",
    "        if cHave < int(regTracking.loc[idx,'League_Number_Open']): #person wants more \n",
    "            onePriority = regSorted.loc[idx,openLeagues].dropna().min() #any more things ranked?   \n",
    "            if math.isnan(float(onePriority))==False:\n",
    "                regSorted,regTracking,leagueDict_open,trackIssues = addOpenLeague(idx,regSorted,regTracking,leagueDict_open,iteration,trackIssues)"
   ]
  },
  {
   "cell_type": "code",
   "execution_count": 880,
   "metadata": {},
   "outputs": [],
   "source": [
    "##add a fourth iteration...there might be space\n",
    "#now go backwards through the list to fill the other spots\n",
    "iteration = 4\n",
    "for idx in (range((nPeople-1),0,-1)):\n",
    "    #ignore person who does not want open leagues:\n",
    "    if np.isnan(regTracking.loc[idx,'League_Number_Open']) == False:\n",
    "        #only do something if a person is still looking for more leagues...\n",
    "        rt = regTracking.loc[idx,openLeagues]\n",
    "        cHave = len(rt[rt=='yes'])\n",
    "        del rt\n",
    "        #NOTE: League_Number_Open will return a string...change to int\n",
    "        if cHave < int(regTracking.loc[idx,'League_Number_Open']): #person wants more \n",
    "            onePriority = regSorted.loc[idx,openLeagues].dropna().min() #any more things ranked?   \n",
    "            if math.isnan(float(onePriority))==False:\n",
    "                regSorted,regTracking,leagueDict_open,trackIssues = addOpenLeague(idx,regSorted,regTracking,leagueDict_open,iteration,trackIssues)        "
   ]
  },
  {
   "cell_type": "code",
   "execution_count": 881,
   "metadata": {},
   "outputs": [
    {
     "data": {
      "text/plain": [
       "['Mens League', 'Thursday Ladies League - 6:15pm']"
      ]
     },
     "execution_count": 881,
     "metadata": {},
     "output_type": "execute_result"
    }
   ],
   "source": [
    "otherLeagues"
   ]
  },
  {
   "cell_type": "code",
   "execution_count": 882,
   "metadata": {},
   "outputs": [],
   "source": [
    "#make a new dictionary for other leagues...concat with openLeagues when done\n",
    "# do doubles and competitive league by hand...\n",
    "#already defined this above...\n",
    "#otherLeagues = ['League_4_Men', 'League_7_Ladies' ,'League_Scrod']\n",
    "\n",
    "leagueDict_other = {}\n",
    "for name in otherLeagues:\n",
    "    leagueDict_other[name] = pd.DataFrame()"
   ]
  },
  {
   "cell_type": "code",
   "execution_count": 883,
   "metadata": {},
   "outputs": [],
   "source": [
    "#only have to go through once\n",
    "for idx, item in regTracking.iterrows():\n",
    "    for oL in otherLeagues:\n",
    "    \n",
    "        oneName = regSorted.loc[idx,['Last Name', 'First Name','Email']] #updated 9/13/2018\n",
    "        oneName = oneName.to_frame().transpose() #need this format to make nice output\n",
    "        if regSorted.loc[idx,oL]=='Yes': #careful with trailing spaces\n",
    "            leagueDict_other = addOne(leagueDict_other,oL,oneName)\n",
    "            #now that I have added the person to a league, change their priority to NaN\n",
    "            regTracking.loc[idx,oL] = 'done'\n",
    "            regSorted.loc[idx,oL] = np.nan"
   ]
  },
  {
   "cell_type": "code",
   "execution_count": 884,
   "metadata": {},
   "outputs": [],
   "source": [
    "#combine the two dictionaries\n",
    "leagueDict_all = leagueDict_open.copy()\n",
    "leagueDict_all.update(leagueDict_other)\n",
    "\n",
    "#combine the list of names\n",
    "allLeagues = list(openLeagues)\n",
    "allLeagues.extend(otherLeagues)"
   ]
  },
  {
   "cell_type": "code",
   "execution_count": 885,
   "metadata": {},
   "outputs": [],
   "source": [
    "#finally, export the results, until I have everyone...no need to keep every iteration\n",
    "folder = 'result_working' \n",
    "if not os.path.exists(folder):\n",
    "    os.makedirs(folder)    "
   ]
  },
  {
   "cell_type": "code",
   "execution_count": null,
   "metadata": {},
   "outputs": [],
   "source": []
  },
  {
   "cell_type": "code",
   "execution_count": 886,
   "metadata": {
    "scrolled": true
   },
   "outputs": [],
   "source": [
    "#change this to sort alphabetically before exporting\n",
    "for fn in allLeagues:\n",
    "    fName = '%s.csv' % fn\n",
    "    #Tracer()() \n",
    "    tData = leagueDict_all[fn].sort_values(by = ['Last Name'])\n",
    "    tData.to_csv(folder + '/' + fName)"
   ]
  },
  {
   "cell_type": "markdown",
   "metadata": {},
   "source": [
    "can ran multiple times and saved the output"
   ]
  },
  {
   "cell_type": "code",
   "execution_count": 887,
   "metadata": {},
   "outputs": [
    {
     "name": "stdout",
     "output_type": "stream",
     "text": [
      "notInFirst :  0  people in this category\n",
      "notInSecond :  1  people in this category\n",
      "notInThird :  1  people in this category\n",
      "notInFourth :  0  people in this category\n",
      "notInFifth :  0  people in this category\n",
      "noAdditionalChoice :  14  people in this category\n"
     ]
    }
   ],
   "source": [
    "#count up number of issues\n",
    "for problem in issueNames:\n",
    "    print(problem, ': ', len(trackIssues[problem]), ' people in this category')"
   ]
  },
  {
   "cell_type": "code",
   "execution_count": 888,
   "metadata": {
    "scrolled": true
   },
   "outputs": [
    {
     "data": {
      "text/html": [
       "<div>\n",
       "<style scoped>\n",
       "    .dataframe tbody tr th:only-of-type {\n",
       "        vertical-align: middle;\n",
       "    }\n",
       "\n",
       "    .dataframe tbody tr th {\n",
       "        vertical-align: top;\n",
       "    }\n",
       "\n",
       "    .dataframe thead th {\n",
       "        text-align: right;\n",
       "    }\n",
       "</style>\n",
       "<table border=\"1\" class=\"dataframe\">\n",
       "  <thead>\n",
       "    <tr style=\"text-align: right;\">\n",
       "      <th></th>\n",
       "      <th>nPeople</th>\n",
       "    </tr>\n",
       "  </thead>\n",
       "  <tbody>\n",
       "    <tr>\n",
       "      <th>Mens League</th>\n",
       "      <td>28.0</td>\n",
       "    </tr>\n",
       "    <tr>\n",
       "      <th>Thursday Ladies League - 6:15pm</th>\n",
       "      <td>20.0</td>\n",
       "    </tr>\n",
       "  </tbody>\n",
       "</table>\n",
       "</div>"
      ],
      "text/plain": [
       "                                 nPeople\n",
       "Mens League                         28.0\n",
       "Thursday Ladies League - 6:15pm     20.0"
      ]
     },
     "execution_count": 888,
     "metadata": {},
     "output_type": "execute_result"
    },
    {
     "data": {
      "image/png": "[encoded data removed]",
      "text/plain": [
       "<Figure size 432x288 with 1 Axes>"
      ]
     },
     "metadata": {
      "needs_background": "light"
     },
     "output_type": "display_data"
    }
   ],
   "source": [
    "#do some plotting...visually see how people distributed\n",
    "gather = pd.DataFrame(np.nan, index = otherLeagues, columns=['nPeople'])\n",
    "for name in otherLeagues:\n",
    "    gather.loc[name,'nPeople'] = len(leagueDict_all[name])\n",
    "    \n",
    "gather.plot(kind = 'bar',title='number of people in each league at this point')\n",
    "gather"
   ]
  },
  {
   "cell_type": "code",
   "execution_count": 889,
   "metadata": {
    "scrolled": true
   },
   "outputs": [
    {
     "data": {
      "text/html": [
       "<div>\n",
       "<style scoped>\n",
       "    .dataframe tbody tr th:only-of-type {\n",
       "        vertical-align: middle;\n",
       "    }\n",
       "\n",
       "    .dataframe tbody tr th {\n",
       "        vertical-align: top;\n",
       "    }\n",
       "\n",
       "    .dataframe thead th {\n",
       "        text-align: right;\n",
       "    }\n",
       "</style>\n",
       "<table border=\"1\" class=\"dataframe\">\n",
       "  <thead>\n",
       "    <tr style=\"text-align: right;\">\n",
       "      <th></th>\n",
       "      <th>nPeople</th>\n",
       "    </tr>\n",
       "  </thead>\n",
       "  <tbody>\n",
       "    <tr>\n",
       "      <th>Sunday 5:15pm Open</th>\n",
       "      <td>21.0</td>\n",
       "    </tr>\n",
       "    <tr>\n",
       "      <th>Monday 4pm Open</th>\n",
       "      <td>25.0</td>\n",
       "    </tr>\n",
       "    <tr>\n",
       "      <th>Monday Evening Open</th>\n",
       "      <td>32.0</td>\n",
       "    </tr>\n",
       "    <tr>\n",
       "      <th>Tuesday 10am Open</th>\n",
       "      <td>28.0</td>\n",
       "    </tr>\n",
       "    <tr>\n",
       "      <th>Wednesday 4pm Open</th>\n",
       "      <td>28.0</td>\n",
       "    </tr>\n",
       "    <tr>\n",
       "      <th>Thursday 4pm Open</th>\n",
       "      <td>24.0</td>\n",
       "    </tr>\n",
       "  </tbody>\n",
       "</table>\n",
       "</div>"
      ],
      "text/plain": [
       "                     nPeople\n",
       "Sunday 5:15pm Open      21.0\n",
       "Monday 4pm Open         25.0\n",
       "Monday Evening Open     32.0\n",
       "Tuesday 10am Open       28.0\n",
       "Wednesday 4pm Open      28.0\n",
       "Thursday 4pm Open       24.0"
      ]
     },
     "execution_count": 889,
     "metadata": {},
     "output_type": "execute_result"
    },
    {
     "data": {
      "image/png": "[encoded data removed]",
      "text/plain": [
       "<Figure size 432x288 with 1 Axes>"
      ]
     },
     "metadata": {
      "needs_background": "light"
     },
     "output_type": "display_data"
    }
   ],
   "source": [
    "#do more plotting...visually see how people distributed\n",
    "gather = pd.DataFrame(np.nan, index = openLeagues, columns=['nPeople'])\n",
    "for name in openLeagues:\n",
    "    gather.loc[name,'nPeople'] = len(leagueDict_open[name])\n",
    "    \n",
    "gather.plot(kind = 'bar',title='number of people in each league at this point')\n",
    "gather"
   ]
  },
  {
   "cell_type": "code",
   "execution_count": 890,
   "metadata": {},
   "outputs": [],
   "source": [
    "#gather up the number of people with # 'yes' < League_Number_Open\n",
    "outcome = regTracking.copy(deep = True)\n",
    "\n",
    "for idx, item in regTracking.iterrows():\n",
    "    #if regTracking.loc[idx,'League_Number_Open'] != 'None':\n",
    "    if np.isnan(regTracking.loc[idx,'League_Number_Open']) == False:\n",
    "        r = regTracking.loc[idx,openLeagues]\n",
    "        nLeagues = 0\n",
    "        for item in range(0,len(r)):\n",
    "            if r[item] == 'yes':\n",
    "                nLeagues = nLeagues + 1\n",
    "        if nLeagues == int(regTracking.loc[idx,'League_Number_Open']):\n",
    "            #delete from the dataframe\n",
    "            outcome.drop(idx,inplace = True)\n",
    "    else: #did not want open leagues, drop them too\n",
    "        outcome.drop(idx,inplace = True)\n",
    "        \n",
    "outcome.sort_values(by = 'League_Number_Open', inplace = True)"
   ]
  },
  {
   "cell_type": "code",
   "execution_count": 891,
   "metadata": {},
   "outputs": [
    {
     "data": {
      "text/plain": [
       "18"
      ]
     },
     "execution_count": 891,
     "metadata": {},
     "output_type": "execute_result"
    }
   ],
   "source": [
    "#this will be the list of people who did not get everything they wanted \n",
    "#(in terms of the # of 'championship' leagues)\n",
    "len(outcome)"
   ]
  },
  {
   "cell_type": "code",
   "execution_count": 892,
   "metadata": {},
   "outputs": [
    {
     "data": {
      "text/html": [
       "<div>\n",
       "<style scoped>\n",
       "    .dataframe tbody tr th:only-of-type {\n",
       "        vertical-align: middle;\n",
       "    }\n",
       "\n",
       "    .dataframe tbody tr th {\n",
       "        vertical-align: top;\n",
       "    }\n",
       "\n",
       "    .dataframe thead th {\n",
       "        text-align: right;\n",
       "    }\n",
       "</style>\n",
       "<table border=\"1\" class=\"dataframe\">\n",
       "  <thead>\n",
       "    <tr style=\"text-align: right;\">\n",
       "      <th></th>\n",
       "      <th>index</th>\n",
       "      <th>First Name</th>\n",
       "      <th>Last Name</th>\n",
       "      <th>Email</th>\n",
       "      <th>League_Number_Open</th>\n",
       "      <th>Mens League</th>\n",
       "      <th>Thursday Ladies League - 6:15pm</th>\n",
       "      <th>Sunday 5:15pm Open</th>\n",
       "      <th>Monday 4pm Open</th>\n",
       "      <th>Monday Evening Open</th>\n",
       "      <th>Tuesday 10am Open</th>\n",
       "      <th>Wednesday 4pm Open</th>\n",
       "      <th>Thursday 4pm Open</th>\n",
       "      <th>randomNumCol</th>\n",
       "    </tr>\n",
       "  </thead>\n",
       "  <tbody>\n",
       "    <tr>\n",
       "      <th>3</th>\n",
       "      <td>115</td>\n",
       "      <td>Haven</td>\n",
       "      <td>Todd Spencer</td>\n",
       "      <td>langner.miriam@gmail.com</td>\n",
       "      <td>1</td>\n",
       "      <td>No</td>\n",
       "      <td>No</td>\n",
       "      <td>NaN</td>\n",
       "      <td>NaN</td>\n",
       "      <td>NaN</td>\n",
       "      <td>no</td>\n",
       "      <td>no</td>\n",
       "      <td>NaN</td>\n",
       "      <td>3</td>\n",
       "    </tr>\n",
       "    <tr>\n",
       "      <th>8</th>\n",
       "      <td>34</td>\n",
       "      <td>Meghan</td>\n",
       "      <td>Lino</td>\n",
       "      <td>Cenataker84@gmail.com</td>\n",
       "      <td>1</td>\n",
       "      <td>No</td>\n",
       "      <td>done</td>\n",
       "      <td>NaN</td>\n",
       "      <td>NaN</td>\n",
       "      <td>NaN</td>\n",
       "      <td>no</td>\n",
       "      <td>NaN</td>\n",
       "      <td>NaN</td>\n",
       "      <td>8</td>\n",
       "    </tr>\n",
       "    <tr>\n",
       "      <th>10</th>\n",
       "      <td>9</td>\n",
       "      <td>Debra</td>\n",
       "      <td>Sawka</td>\n",
       "      <td>albertablu@gmail.com</td>\n",
       "      <td>1</td>\n",
       "      <td>No</td>\n",
       "      <td>No</td>\n",
       "      <td>NaN</td>\n",
       "      <td>NaN</td>\n",
       "      <td>NaN</td>\n",
       "      <td>no</td>\n",
       "      <td>NaN</td>\n",
       "      <td>NaN</td>\n",
       "      <td>10</td>\n",
       "    </tr>\n",
       "    <tr>\n",
       "      <th>150</th>\n",
       "      <td>166</td>\n",
       "      <td>eric</td>\n",
       "      <td>robillard</td>\n",
       "      <td>robill19@hotmail.com</td>\n",
       "      <td>2</td>\n",
       "      <td>No</td>\n",
       "      <td>No</td>\n",
       "      <td>NaN</td>\n",
       "      <td>yes</td>\n",
       "      <td>no</td>\n",
       "      <td>NaN</td>\n",
       "      <td>no</td>\n",
       "      <td>NaN</td>\n",
       "      <td>150</td>\n",
       "    </tr>\n",
       "    <tr>\n",
       "      <th>144</th>\n",
       "      <td>161</td>\n",
       "      <td>Pat</td>\n",
       "      <td>Kavanagh</td>\n",
       "      <td>Pkavanagh5@aol.com</td>\n",
       "      <td>2</td>\n",
       "      <td>No</td>\n",
       "      <td>No</td>\n",
       "      <td>yes</td>\n",
       "      <td>NaN</td>\n",
       "      <td>NaN</td>\n",
       "      <td>NaN</td>\n",
       "      <td>no</td>\n",
       "      <td>NaN</td>\n",
       "      <td>144</td>\n",
       "    </tr>\n",
       "    <tr>\n",
       "      <th>133</th>\n",
       "      <td>158</td>\n",
       "      <td>Peter</td>\n",
       "      <td>Jones</td>\n",
       "      <td>peter2tsol@gmail.com</td>\n",
       "      <td>2</td>\n",
       "      <td>No</td>\n",
       "      <td>No</td>\n",
       "      <td>NaN</td>\n",
       "      <td>NaN</td>\n",
       "      <td>yes</td>\n",
       "      <td>NaN</td>\n",
       "      <td>NaN</td>\n",
       "      <td>NaN</td>\n",
       "      <td>133</td>\n",
       "    </tr>\n",
       "    <tr>\n",
       "      <th>131</th>\n",
       "      <td>82</td>\n",
       "      <td>Jay</td>\n",
       "      <td>Flanders</td>\n",
       "      <td>jayflanders@comcast.net</td>\n",
       "      <td>2</td>\n",
       "      <td>done</td>\n",
       "      <td>No</td>\n",
       "      <td>NaN</td>\n",
       "      <td>NaN</td>\n",
       "      <td>no</td>\n",
       "      <td>NaN</td>\n",
       "      <td>yes</td>\n",
       "      <td>NaN</td>\n",
       "      <td>131</td>\n",
       "    </tr>\n",
       "    <tr>\n",
       "      <th>121</th>\n",
       "      <td>123</td>\n",
       "      <td>Mary</td>\n",
       "      <td>Kavanagh</td>\n",
       "      <td>m84pat@gmail.com</td>\n",
       "      <td>2</td>\n",
       "      <td>No</td>\n",
       "      <td>No</td>\n",
       "      <td>yes</td>\n",
       "      <td>NaN</td>\n",
       "      <td>NaN</td>\n",
       "      <td>NaN</td>\n",
       "      <td>no</td>\n",
       "      <td>NaN</td>\n",
       "      <td>121</td>\n",
       "    </tr>\n",
       "    <tr>\n",
       "      <th>116</th>\n",
       "      <td>77</td>\n",
       "      <td>Andy</td>\n",
       "      <td>Bailey</td>\n",
       "      <td>Hrdchrger9@aol.com</td>\n",
       "      <td>2</td>\n",
       "      <td>No</td>\n",
       "      <td>No</td>\n",
       "      <td>NaN</td>\n",
       "      <td>NaN</td>\n",
       "      <td>NaN</td>\n",
       "      <td>yes</td>\n",
       "      <td>no</td>\n",
       "      <td>NaN</td>\n",
       "      <td>116</td>\n",
       "    </tr>\n",
       "    <tr>\n",
       "      <th>110</th>\n",
       "      <td>117</td>\n",
       "      <td>Lauren</td>\n",
       "      <td>Kleinas</td>\n",
       "      <td>lauren@ljkgraphics.com</td>\n",
       "      <td>2</td>\n",
       "      <td>No</td>\n",
       "      <td>done</td>\n",
       "      <td>NaN</td>\n",
       "      <td>NaN</td>\n",
       "      <td>NaN</td>\n",
       "      <td>yes</td>\n",
       "      <td>NaN</td>\n",
       "      <td>NaN</td>\n",
       "      <td>110</td>\n",
       "    </tr>\n",
       "    <tr>\n",
       "      <th>158</th>\n",
       "      <td>175</td>\n",
       "      <td>Chris</td>\n",
       "      <td>Richards</td>\n",
       "      <td>scr1@rcn.com</td>\n",
       "      <td>2</td>\n",
       "      <td>No</td>\n",
       "      <td>No</td>\n",
       "      <td>NaN</td>\n",
       "      <td>NaN</td>\n",
       "      <td>NaN</td>\n",
       "      <td>no</td>\n",
       "      <td>yes</td>\n",
       "      <td>NaN</td>\n",
       "      <td>158</td>\n",
       "    </tr>\n",
       "    <tr>\n",
       "      <th>101</th>\n",
       "      <td>1</td>\n",
       "      <td>Steve</td>\n",
       "      <td>Davis</td>\n",
       "      <td>2steved2@gmail.com</td>\n",
       "      <td>2</td>\n",
       "      <td>No</td>\n",
       "      <td>No</td>\n",
       "      <td>NaN</td>\n",
       "      <td>NaN</td>\n",
       "      <td>yes</td>\n",
       "      <td>NaN</td>\n",
       "      <td>no</td>\n",
       "      <td>NaN</td>\n",
       "      <td>101</td>\n",
       "    </tr>\n",
       "    <tr>\n",
       "      <th>95</th>\n",
       "      <td>75</td>\n",
       "      <td>Heather</td>\n",
       "      <td>Fischer</td>\n",
       "      <td>hebfischer@gmail.com</td>\n",
       "      <td>2</td>\n",
       "      <td>No</td>\n",
       "      <td>No</td>\n",
       "      <td>NaN</td>\n",
       "      <td>NaN</td>\n",
       "      <td>yes</td>\n",
       "      <td>no</td>\n",
       "      <td>NaN</td>\n",
       "      <td>NaN</td>\n",
       "      <td>95</td>\n",
       "    </tr>\n",
       "    <tr>\n",
       "      <th>28</th>\n",
       "      <td>56</td>\n",
       "      <td>David</td>\n",
       "      <td>Nisula</td>\n",
       "      <td>djnabn@comcast.net</td>\n",
       "      <td>2</td>\n",
       "      <td>done</td>\n",
       "      <td>No</td>\n",
       "      <td>NaN</td>\n",
       "      <td>yes</td>\n",
       "      <td>NaN</td>\n",
       "      <td>NaN</td>\n",
       "      <td>no</td>\n",
       "      <td>NaN</td>\n",
       "      <td>28</td>\n",
       "    </tr>\n",
       "    <tr>\n",
       "      <th>13</th>\n",
       "      <td>71</td>\n",
       "      <td>George</td>\n",
       "      <td>Bagley</td>\n",
       "      <td>gnbagley@gmail.com</td>\n",
       "      <td>2</td>\n",
       "      <td>No</td>\n",
       "      <td>No</td>\n",
       "      <td>NaN</td>\n",
       "      <td>yes</td>\n",
       "      <td>NaN</td>\n",
       "      <td>NaN</td>\n",
       "      <td>no</td>\n",
       "      <td>NaN</td>\n",
       "      <td>13</td>\n",
       "    </tr>\n",
       "    <tr>\n",
       "      <th>113</th>\n",
       "      <td>40</td>\n",
       "      <td>Catherine</td>\n",
       "      <td>Offinger</td>\n",
       "      <td>Coffinger@whoi.edu</td>\n",
       "      <td>2</td>\n",
       "      <td>No</td>\n",
       "      <td>No</td>\n",
       "      <td>NaN</td>\n",
       "      <td>yes</td>\n",
       "      <td>NaN</td>\n",
       "      <td>no</td>\n",
       "      <td>NaN</td>\n",
       "      <td>NaN</td>\n",
       "      <td>113</td>\n",
       "    </tr>\n",
       "    <tr>\n",
       "      <th>189</th>\n",
       "      <td>125</td>\n",
       "      <td>Mark</td>\n",
       "      <td>Boardman</td>\n",
       "      <td>markcboardman@gmail.com</td>\n",
       "      <td>2</td>\n",
       "      <td>No</td>\n",
       "      <td>No</td>\n",
       "      <td>NaN</td>\n",
       "      <td>NaN</td>\n",
       "      <td>NaN</td>\n",
       "      <td>no</td>\n",
       "      <td>yes</td>\n",
       "      <td>NaN</td>\n",
       "      <td>189</td>\n",
       "    </tr>\n",
       "    <tr>\n",
       "      <th>33</th>\n",
       "      <td>58</td>\n",
       "      <td>Donna</td>\n",
       "      <td>Pijanowski</td>\n",
       "      <td>donna.pijanowski51@gmail.com</td>\n",
       "      <td>3</td>\n",
       "      <td>No</td>\n",
       "      <td>No</td>\n",
       "      <td>NaN</td>\n",
       "      <td>NaN</td>\n",
       "      <td>NaN</td>\n",
       "      <td>no</td>\n",
       "      <td>yes</td>\n",
       "      <td>yes</td>\n",
       "      <td>33</td>\n",
       "    </tr>\n",
       "  </tbody>\n",
       "</table>\n",
       "</div>"
      ],
      "text/plain": [
       "     index First Name     Last Name                         Email  \\\n",
       "3      115      Haven  Todd Spencer      langner.miriam@gmail.com   \n",
       "8       34     Meghan          Lino         Cenataker84@gmail.com   \n",
       "10       9      Debra         Sawka          albertablu@gmail.com   \n",
       "150    166       eric     robillard          robill19@hotmail.com   \n",
       "144    161        Pat      Kavanagh            Pkavanagh5@aol.com   \n",
       "133    158      Peter         Jones          peter2tsol@gmail.com   \n",
       "131     82        Jay      Flanders       jayflanders@comcast.net   \n",
       "121    123       Mary      Kavanagh              m84pat@gmail.com   \n",
       "116     77       Andy        Bailey            Hrdchrger9@aol.com   \n",
       "110    117     Lauren       Kleinas        lauren@ljkgraphics.com   \n",
       "158    175      Chris      Richards                  scr1@rcn.com   \n",
       "101      1      Steve         Davis            2steved2@gmail.com   \n",
       "95      75    Heather       Fischer          hebfischer@gmail.com   \n",
       "28      56      David        Nisula            djnabn@comcast.net   \n",
       "13      71     George        Bagley            gnbagley@gmail.com   \n",
       "113     40  Catherine      Offinger            Coffinger@whoi.edu   \n",
       "189    125       Mark      Boardman       markcboardman@gmail.com   \n",
       "33      58      Donna    Pijanowski  donna.pijanowski51@gmail.com   \n",
       "\n",
       "     League_Number_Open Mens League Thursday Ladies League - 6:15pm  \\\n",
       "3                     1          No                              No   \n",
       "8                     1          No                            done   \n",
       "10                    1          No                              No   \n",
       "150                   2          No                              No   \n",
       "144                   2          No                              No   \n",
       "133                   2          No                              No   \n",
       "131                   2        done                              No   \n",
       "121                   2          No                              No   \n",
       "116                   2          No                              No   \n",
       "110                   2          No                            done   \n",
       "158                   2          No                              No   \n",
       "101                   2          No                              No   \n",
       "95                    2          No                              No   \n",
       "28                    2        done                              No   \n",
       "13                    2          No                              No   \n",
       "113                   2          No                              No   \n",
       "189                   2          No                              No   \n",
       "33                    3          No                              No   \n",
       "\n",
       "    Sunday 5:15pm Open Monday 4pm Open Monday Evening Open Tuesday 10am Open  \\\n",
       "3                  NaN             NaN                 NaN                no   \n",
       "8                  NaN             NaN                 NaN                no   \n",
       "10                 NaN             NaN                 NaN                no   \n",
       "150                NaN             yes                  no               NaN   \n",
       "144                yes             NaN                 NaN               NaN   \n",
       "133                NaN             NaN                 yes               NaN   \n",
       "131                NaN             NaN                  no               NaN   \n",
       "121                yes             NaN                 NaN               NaN   \n",
       "116                NaN             NaN                 NaN               yes   \n",
       "110                NaN             NaN                 NaN               yes   \n",
       "158                NaN             NaN                 NaN                no   \n",
       "101                NaN             NaN                 yes               NaN   \n",
       "95                 NaN             NaN                 yes                no   \n",
       "28                 NaN             yes                 NaN               NaN   \n",
       "13                 NaN             yes                 NaN               NaN   \n",
       "113                NaN             yes                 NaN                no   \n",
       "189                NaN             NaN                 NaN                no   \n",
       "33                 NaN             NaN                 NaN                no   \n",
       "\n",
       "    Wednesday 4pm Open Thursday 4pm Open  randomNumCol  \n",
       "3                   no               NaN             3  \n",
       "8                  NaN               NaN             8  \n",
       "10                 NaN               NaN            10  \n",
       "150                 no               NaN           150  \n",
       "144                 no               NaN           144  \n",
       "133                NaN               NaN           133  \n",
       "131                yes               NaN           131  \n",
       "121                 no               NaN           121  \n",
       "116                 no               NaN           116  \n",
       "110                NaN               NaN           110  \n",
       "158                yes               NaN           158  \n",
       "101                 no               NaN           101  \n",
       "95                 NaN               NaN            95  \n",
       "28                  no               NaN            28  \n",
       "13                  no               NaN            13  \n",
       "113                NaN               NaN           113  \n",
       "189                yes               NaN           189  \n",
       "33                 yes               yes            33  "
      ]
     },
     "execution_count": 892,
     "metadata": {},
     "output_type": "execute_result"
    }
   ],
   "source": [
    "outcome"
   ]
  },
  {
   "cell_type": "code",
   "execution_count": 893,
   "metadata": {},
   "outputs": [],
   "source": [
    "#alphabetize regTracking before saving\n",
    "regTracking.sort_values(by = 'Last Name',inplace = True)\n",
    "\n",
    "outcome.to_csv(folder + '/exportOutcome.csv')\n",
    "regTracking.to_csv(folder + '/exportTracking.csv')\n",
    "regSorted.to_csv(folder + '/exportSorted.csv')\n",
    "regInfo.to_csv(folder + '/exportInfo.csv')"
   ]
  },
  {
   "cell_type": "code",
   "execution_count": 894,
   "metadata": {},
   "outputs": [],
   "source": [
    "#can run multiple times and see what the best possible outcome is...would want to keep that..."
   ]
  },
  {
   "cell_type": "code",
   "execution_count": 895,
   "metadata": {},
   "outputs": [
    {
     "name": "stdout",
     "output_type": "stream",
     "text": [
      "notInFirst :  0  people in this category\n",
      "notInSecond :  1  people in this category\n",
      "notInThird :  1  people in this category\n",
      "notInFourth :  0  people in this category\n",
      "notInFifth :  0  people in this category\n",
      "noAdditionalChoice :  14  people in this category\n"
     ]
    }
   ],
   "source": [
    "for problem in issueNames:\n",
    "    print(problem, ': ', len(trackIssues[problem]), ' people in this category')"
   ]
  },
  {
   "cell_type": "code",
   "execution_count": null,
   "metadata": {},
   "outputs": [],
   "source": []
  }
 ],
 "metadata": {
  "kernelspec": {
   "display_name": "Python 3 (ipykernel)",
   "language": "python",
   "name": "python3"
  },
  "language_info": {
   "codemirror_mode": {
    "name": "ipython",
    "version": 3
   },
   "file_extension": ".py",
   "mimetype": "text/x-python",
   "name": "python",
   "nbconvert_exporter": "python",
   "pygments_lexer": "ipython3",
   "version": "3.9.7"
  }
 },
 "nbformat": 4,
 "nbformat_minor": 1
}
