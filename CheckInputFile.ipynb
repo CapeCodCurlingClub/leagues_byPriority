{
 "cells": [
  {
   "cell_type": "markdown",
   "metadata": {},
   "source": [
    "Check the input file for issues, so far I see the following\n",
    "(1) do they list any league more than once?\n",
    "(2) should I ask about more options?\n",
    "(3) do they want to curl in more open leagues than they list?\n",
    "Useful information provided by this file: \n",
    "(a) How many people list a given league as their first choice.\n",
    "(b) How many registrations are there in total?\n",
    "\n",
    "=======\n",
    "Krista Longnecker\n",
    "18 September 2019"
   ]
  },
  {
   "cell_type": "code",
   "execution_count": 1,
   "metadata": {},
   "outputs": [],
   "source": [
    "%reset -f"
   ]
  },
  {
   "cell_type": "code",
   "execution_count": 2,
   "metadata": {},
   "outputs": [],
   "source": [
    "import pandas as pd\n",
    "import numpy as np\n",
    "import random\n",
    "import math\n",
    "import csv\n",
    "import os.path\n",
    "import matplotlib.pyplot as plt\n",
    "%matplotlib inline"
   ]
  },
  {
   "cell_type": "code",
   "execution_count": 3,
   "metadata": {
    "scrolled": true
   },
   "outputs": [],
   "source": [
    "#New behind the scenes program exports an Excel file...\n",
    "fName = 'registrants_list_on_2019-09-18.KLworking.xlsx' \n",
    "importInfo = pd.read_excel(io=fName)"
   ]
  },
  {
   "cell_type": "code",
   "execution_count": 5,
   "metadata": {},
   "outputs": [
    {
     "name": "stderr",
     "output_type": "stream",
     "text": [
      "C:\\ProgramData\\Anaconda3\\lib\\site-packages\\pandas\\core\\indexing.py:1472: FutureWarning: \n",
      "Passing list-likes to .loc or [] with any missing label will raise\n",
      "KeyError in the future, you can use .reindex() as an alternative.\n",
      "\n",
      "See the documentation here:\n",
      "https://pandas.pydata.org/pandas-docs/stable/indexing.html#deprecate-loc-reindex-listlike\n",
      "  return self._getitem_tuple(key)\n"
     ]
    }
   ],
   "source": [
    "openLeagues = ['Sunday Night', 'Monday 4PM', 'Monday Night','Tuesday 10AM', 'Tuesday 4PM',\n",
    "               'Wednesday 4PM','Thursday 4PM'] #updated to match the priority list\n",
    "otherLeagues = ['Men''s League', 'Ladies League' ,'Scrod League','Thursday9AMdoubles']\n",
    "\n",
    "priorities = ['First Open League Choice','Second Open League Choice',\n",
    "              'Third Open League Choice','Fourth Open League Choice',\n",
    "              'Fifth Open League Choice','Sixth Open League Choice']\n",
    "\n",
    "regInfo = importInfo.loc[:,(['First Name','Last Name','email','How many Chamionship Leagues would you like to play in?'] + otherLeagues)]\n",
    "\n",
    "for item in openLeagues:\n",
    "    regInfo[item] = np.nan\n",
    "\n",
    "nPeople = len(regInfo.index)\n",
    "for idx in range(0,nPeople):\n",
    "    for idxP in enumerate(priorities):\n",
    "        #remember: enumerate will allow idxP[0] is the number, while idxP[1] is the value\n",
    "        getOne = importInfo.loc[idx,idxP[1]]\n",
    "        if getOne != 'None':\n",
    "            regInfo.loc[idx,getOne] = idxP[0] + 1  #want 1,2,3 and not python zero index"
   ]
  },
  {
   "cell_type": "code",
   "execution_count": 6,
   "metadata": {},
   "outputs": [],
   "source": [
    "#if we only consider the 4 pm leagues\n",
    "only4pm = ['Monday 4PM','Tuesday 4PM','Wednesday 4PM','Thursday 4PM']"
   ]
  },
  {
   "cell_type": "code",
   "execution_count": 7,
   "metadata": {},
   "outputs": [
    {
     "data": {
      "text/plain": [
       "207"
      ]
     },
     "execution_count": 7,
     "metadata": {},
     "output_type": "execute_result"
    }
   ],
   "source": [
    "len(regInfo)"
   ]
  },
  {
   "cell_type": "code",
   "execution_count": 8,
   "metadata": {
    "scrolled": false
   },
   "outputs": [
    {
     "data": {
      "text/plain": [
       "Text(0, 0.5, '# of people in category')"
      ]
     },
     "execution_count": 8,
     "metadata": {},
     "output_type": "execute_result"
    },
    {
     "data": {
      "image/png": "[encoded data removed]",
      "text/plain": [
       "<Figure size 432x288 with 1 Axes>"
      ]
     },
     "metadata": {
      "needs_background": "light"
     },
     "output_type": "display_data"
    }
   ],
   "source": [
    "tData = regInfo.replace(to_replace='None', value=0)\n",
    "toPlot = tData.loc[:,'How many Chamionship Leagues would you like to play in?'].value_counts()\n",
    "\n",
    "#drop the zeros...seems crazy, but can't really index into a series easily\n",
    "toPlot = toPlot[~toPlot.index.isin([0])]\n",
    "\n",
    "toPlot.plot(kind = 'bar')\n",
    "plt.xlabel('# of times person wants to curl in open league')\n",
    "plt.ylabel('# of people in category')"
   ]
  },
  {
   "cell_type": "code",
   "execution_count": 9,
   "metadata": {},
   "outputs": [
    {
     "data": {
      "text/plain": [
       "1.0    121\n",
       "2.0     41\n",
       "3.0      6\n",
       "Name: How many Chamionship Leagues would you like to play in?, dtype: int64"
      ]
     },
     "execution_count": 9,
     "metadata": {},
     "output_type": "execute_result"
    }
   ],
   "source": [
    "toPlot"
   ]
  },
  {
   "cell_type": "code",
   "execution_count": 10,
   "metadata": {},
   "outputs": [],
   "source": [
    "regPlot = importInfo.loc[:,(['First Name','Last Name','email','How many Chamionship Leagues would you like to play in?'] + otherLeagues)]\n",
    "\n",
    "for item in openLeagues:\n",
    "    regPlot[item] = np.nan\n",
    "\n",
    "nPeople = len(regPlot.index)\n",
    "for idx in range(0,nPeople):\n",
    "    for idxP in enumerate(priorities):\n",
    "        #remember: enumerate will allow idxP[0] is the number, while idxP[1] is the value\n",
    "        getOne = importInfo.loc[idx,idxP[1]]\n",
    "        if getOne != 'None':\n",
    "            regPlot.loc[idx,getOne] = 1  \n",
    "\n",
    "#little misleading bc people are listing multiple options        "
   ]
  },
  {
   "cell_type": "code",
   "execution_count": 11,
   "metadata": {},
   "outputs": [],
   "source": [
    "d = {'Sunday Night': np.nan,\n",
    "     'Monday 4PM': np.nan,\n",
    "     'Monday Night': np.nan,\n",
    "     'Tuesday 10AM': np.nan,\n",
    "     'Tuesday 4PM': np.nan,\n",
    "     'Wednesday 4PM': np.nan,\n",
    "     'Thursday 4PM': np.nan,}\n",
    "\n",
    "gather = pd.DataFrame({'nFirst' : d,'nSecond' :d,'nThird' :d,'nFourth':d,'nFifth':d})"
   ]
  },
  {
   "cell_type": "code",
   "execution_count": 12,
   "metadata": {},
   "outputs": [],
   "source": [
    "for name in openLeagues:\n",
    "    gather.loc[name,'nFirst'] = len(regInfo.loc[regInfo[name]==1])\n",
    "    gather.loc[name,'nSecond'] = len(regInfo.loc[regInfo[name]==2])\n",
    "    gather.loc[name,'nThird'] = len(regInfo.loc[regInfo[name]==3])\n",
    "    gather.loc[name,'nFourth'] = len(regInfo.loc[regInfo[name]==4])\n",
    "    gather.loc[name,'nFifth'] = len(regInfo.loc[regInfo[name]==5])\n",
    "    gather.loc[name,'nSixth'] = len(regInfo.loc[regInfo[name]==6])"
   ]
  },
  {
   "cell_type": "code",
   "execution_count": 13,
   "metadata": {},
   "outputs": [
    {
     "data": {
      "text/html": [
       "<div>\n",
       "<style scoped>\n",
       "    .dataframe tbody tr th:only-of-type {\n",
       "        vertical-align: middle;\n",
       "    }\n",
       "\n",
       "    .dataframe tbody tr th {\n",
       "        vertical-align: top;\n",
       "    }\n",
       "\n",
       "    .dataframe thead th {\n",
       "        text-align: right;\n",
       "    }\n",
       "</style>\n",
       "<table border=\"1\" class=\"dataframe\">\n",
       "  <thead>\n",
       "    <tr style=\"text-align: right;\">\n",
       "      <th></th>\n",
       "      <th>nFirst</th>\n",
       "      <th>nSecond</th>\n",
       "      <th>nThird</th>\n",
       "      <th>nFourth</th>\n",
       "      <th>nFifth</th>\n",
       "      <th>nSixth</th>\n",
       "    </tr>\n",
       "  </thead>\n",
       "  <tbody>\n",
       "    <tr>\n",
       "      <th>Monday 4PM</th>\n",
       "      <td>20.0</td>\n",
       "      <td>10.0</td>\n",
       "      <td>7.0</td>\n",
       "      <td>2.0</td>\n",
       "      <td>0.0</td>\n",
       "      <td>0.0</td>\n",
       "    </tr>\n",
       "    <tr>\n",
       "      <th>Monday Night</th>\n",
       "      <td>42.0</td>\n",
       "      <td>3.0</td>\n",
       "      <td>2.0</td>\n",
       "      <td>0.0</td>\n",
       "      <td>0.0</td>\n",
       "      <td>2.0</td>\n",
       "    </tr>\n",
       "    <tr>\n",
       "      <th>Sunday Night</th>\n",
       "      <td>31.0</td>\n",
       "      <td>7.0</td>\n",
       "      <td>4.0</td>\n",
       "      <td>1.0</td>\n",
       "      <td>1.0</td>\n",
       "      <td>1.0</td>\n",
       "    </tr>\n",
       "    <tr>\n",
       "      <th>Thursday 4PM</th>\n",
       "      <td>18.0</td>\n",
       "      <td>19.0</td>\n",
       "      <td>7.0</td>\n",
       "      <td>2.0</td>\n",
       "      <td>0.0</td>\n",
       "      <td>1.0</td>\n",
       "    </tr>\n",
       "    <tr>\n",
       "      <th>Tuesday 10AM</th>\n",
       "      <td>22.0</td>\n",
       "      <td>6.0</td>\n",
       "      <td>8.0</td>\n",
       "      <td>2.0</td>\n",
       "      <td>0.0</td>\n",
       "      <td>0.0</td>\n",
       "    </tr>\n",
       "    <tr>\n",
       "      <th>Tuesday 4PM</th>\n",
       "      <td>15.0</td>\n",
       "      <td>12.0</td>\n",
       "      <td>1.0</td>\n",
       "      <td>1.0</td>\n",
       "      <td>0.0</td>\n",
       "      <td>1.0</td>\n",
       "    </tr>\n",
       "    <tr>\n",
       "      <th>Wednesday 4PM</th>\n",
       "      <td>17.0</td>\n",
       "      <td>15.0</td>\n",
       "      <td>5.0</td>\n",
       "      <td>2.0</td>\n",
       "      <td>1.0</td>\n",
       "      <td>0.0</td>\n",
       "    </tr>\n",
       "  </tbody>\n",
       "</table>\n",
       "</div>"
      ],
      "text/plain": [
       "               nFirst  nSecond  nThird  nFourth  nFifth  nSixth\n",
       "Monday 4PM       20.0     10.0     7.0      2.0     0.0     0.0\n",
       "Monday Night     42.0      3.0     2.0      0.0     0.0     2.0\n",
       "Sunday Night     31.0      7.0     4.0      1.0     1.0     1.0\n",
       "Thursday 4PM     18.0     19.0     7.0      2.0     0.0     1.0\n",
       "Tuesday 10AM     22.0      6.0     8.0      2.0     0.0     0.0\n",
       "Tuesday 4PM      15.0     12.0     1.0      1.0     0.0     1.0\n",
       "Wednesday 4PM    17.0     15.0     5.0      2.0     1.0     0.0"
      ]
     },
     "execution_count": 13,
     "metadata": {},
     "output_type": "execute_result"
    }
   ],
   "source": [
    "gather"
   ]
  },
  {
   "cell_type": "code",
   "execution_count": 14,
   "metadata": {},
   "outputs": [
    {
     "data": {
      "text/plain": [
       "<matplotlib.axes._subplots.AxesSubplot at 0x1f1661f3b70>"
      ]
     },
     "execution_count": 14,
     "metadata": {},
     "output_type": "execute_result"
    },
    {
     "data": {
      "image/png": "[encoded data removed]",
      "text/plain": [
       "<Figure size 432x288 with 1 Axes>"
      ]
     },
     "metadata": {
      "needs_background": "light"
     },
     "output_type": "display_data"
    }
   ],
   "source": [
    "#otherwise will list the values in alphabetical order\n",
    "gather.loc[:,['nFirst','nSecond','nThird','nFourth','nFifth','nSixth']].plot(kind = 'bar')"
   ]
  },
  {
   "cell_type": "code",
   "execution_count": 15,
   "metadata": {},
   "outputs": [
    {
     "data": {
      "text/plain": [
       "<matplotlib.axes._subplots.AxesSubplot at 0x1f166383b70>"
      ]
     },
     "execution_count": 15,
     "metadata": {},
     "output_type": "execute_result"
    },
    {
     "data": {
      "image/png": "[encoded data removed]",
      "text/plain": [
       "<Figure size 432x288 with 1 Axes>"
      ]
     },
     "metadata": {
      "needs_background": "light"
     },
     "output_type": "display_data"
    }
   ],
   "source": [
    "#otherwise will list the values in alphabetical order\n",
    "gather.loc[only4pm,['nFirst','nSecond','nThird','nFourth','nFifth','nSixth']].plot(kind = 'bar',legend = False)"
   ]
  },
  {
   "cell_type": "code",
   "execution_count": 16,
   "metadata": {},
   "outputs": [
    {
     "data": {
      "text/plain": [
       "{'Sunday Night': 31,\n",
       " 'Monday 4PM': 20,\n",
       " 'Monday Night': 42,\n",
       " 'Tuesday 10AM': 22,\n",
       " 'Tuesday 4PM': 15,\n",
       " 'Wednesday 4PM': 17,\n",
       " 'Thursday 4PM': 18}"
      ]
     },
     "execution_count": 16,
     "metadata": {},
     "output_type": "execute_result"
    }
   ],
   "source": [
    "#another way to do this:\n",
    "countFirst = {}\n",
    "for name in openLeagues:\n",
    "    countFirst[name] = len(regInfo.loc[regInfo[name]==1])\n",
    "\n",
    "countFirst"
   ]
  },
  {
   "cell_type": "code",
   "execution_count": 17,
   "metadata": {},
   "outputs": [
    {
     "data": {
      "text/plain": [
       "<matplotlib.axes._subplots.AxesSubplot at 0x1f166443278>"
      ]
     },
     "execution_count": 17,
     "metadata": {},
     "output_type": "execute_result"
    },
    {
     "data": {
      "image/png": "[encoded data removed]",
      "text/plain": [
       "<Figure size 432x288 with 1 Axes>"
      ]
     },
     "metadata": {
      "needs_background": "light"
     },
     "output_type": "display_data"
    }
   ],
   "source": [
    "gather.loc[only4pm,['nFirst','nSecond','nThird','nFourth','nFifth','nSixth']].T.plot(kind = 'bar')"
   ]
  },
  {
   "cell_type": "code",
   "execution_count": 18,
   "metadata": {},
   "outputs": [
    {
     "data": {
      "text/plain": [
       "<matplotlib.axes._subplots.AxesSubplot at 0x1f1663b8eb8>"
      ]
     },
     "execution_count": 18,
     "metadata": {},
     "output_type": "execute_result"
    },
    {
     "data": {
      "image/png": "[encoded data removed]",
      "text/plain": [
       "<Figure size 432x288 with 1 Axes>"
      ]
     },
     "metadata": {
      "needs_background": "light"
     },
     "output_type": "display_data"
    }
   ],
   "source": [
    "gather.loc[:,['nFirst','nSecond','nThird','nFourth','nFifth','nSixth']].plot(kind = 'bar')"
   ]
  },
  {
   "cell_type": "code",
   "execution_count": null,
   "metadata": {},
   "outputs": [],
   "source": []
  },
  {
   "cell_type": "code",
   "execution_count": null,
   "metadata": {},
   "outputs": [],
   "source": []
  }
 ],
 "metadata": {
  "kernelspec": {
   "display_name": "Python 3",
   "language": "python",
   "name": "python3"
  },
  "language_info": {
   "codemirror_mode": {
    "name": "ipython",
    "version": 3
   },
   "file_extension": ".py",
   "mimetype": "text/x-python",
   "name": "python",
   "nbconvert_exporter": "python",
   "pygments_lexer": "ipython3",
   "version": "3.7.1"
  }
 },
 "nbformat": 4,
 "nbformat_minor": 1
}
